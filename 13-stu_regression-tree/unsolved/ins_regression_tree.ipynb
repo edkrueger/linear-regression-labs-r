{
 "cells": [
  {
   "cell_type": "markdown",
   "metadata": {},
   "source": [
    "# Fuel Efficiency Analysis"
   ]
  },
  {
   "cell_type": "markdown",
   "metadata": {},
   "source": [
    "## Regression Tree (Student)"
   ]
  },
  {
   "cell_type": "code",
   "execution_count": 1,
   "metadata": {},
   "outputs": [],
   "source": [
    "# load the rpart library\n",
    "library(rpart)"
   ]
  },
  {
   "cell_type": "code",
   "execution_count": 2,
   "metadata": {},
   "outputs": [],
   "source": [
    "# make a function to split the data into a training set and a validation set\n",
    "test_train_split = function(data, test_size=.25){\n",
    "    \n",
    "    # the the number of observations in the data\n",
    "    n_obs = dim(data)[1]\n",
    "    \n",
    "    # find the number of training observations by rounding up\n",
    "    n_train_obs = ceiling(n_obs * (1 - test_size))\n",
    "    \n",
    "    # get the train indexes\n",
    "    train_idx = sample(n_obs, n_train_obs)\n",
    "    \n",
    "    # split the data\n",
    "    train = data[train_idx, ]\n",
    "    test = data[-train_idx, ]\n",
    "\n",
    "    # return the result\n",
    "    result = list(train, test)\n",
    "    return(result)\n",
    "}"
   ]
  },
  {
   "cell_type": "code",
   "execution_count": 3,
   "metadata": {},
   "outputs": [],
   "source": [
    "# write a function to calculate the MSE\n",
    "calc_MSE = function (model, data){\n",
    "    return (\n",
    "        mean(\n",
    "            (data$mpg - predict(model, data)) ^ 2\n",
    "        )\n",
    "    )\n",
    "}"
   ]
  },
  {
   "cell_type": "code",
   "execution_count": 4,
   "metadata": {},
   "outputs": [],
   "source": [
    "# read in the cleaned ISLR Auto dataset cleaned in 10-ins_best_subset\n",
    "auto = read.csv(\"../resources/ISLR_auto_clean.csv\", row.names=1)"
   ]
  }
 ],
 "metadata": {
  "kernelspec": {
   "display_name": "ISLR",
   "language": "R",
   "name": "islr"
  },
  "language_info": {
   "codemirror_mode": "r",
   "file_extension": ".r",
   "mimetype": "text/x-r-source",
   "name": "R",
   "pygments_lexer": "r",
   "version": "3.5.1"
  }
 },
 "nbformat": 4,
 "nbformat_minor": 2
}
