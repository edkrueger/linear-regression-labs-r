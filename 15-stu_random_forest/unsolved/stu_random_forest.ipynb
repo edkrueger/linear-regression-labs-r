{
 "cells": [
  {
   "cell_type": "markdown",
   "metadata": {},
   "source": [
    "# Fuel Efficiency Analysis"
   ]
  },
  {
   "cell_type": "markdown",
   "metadata": {},
   "source": [
    "## Random Forest (Student)"
   ]
  },
  {
   "cell_type": "code",
   "execution_count": 1,
   "metadata": {},
   "outputs": [
    {
     "name": "stderr",
     "output_type": "stream",
     "text": [
      "randomForest 4.6-14\n",
      "Type rfNews() to see new features/changes/bug fixes.\n"
     ]
    }
   ],
   "source": [
    "# load the packages\n",
    "library(randomForest)"
   ]
  },
  {
   "cell_type": "code",
   "execution_count": 2,
   "metadata": {},
   "outputs": [],
   "source": [
    "# make a function to split the data into a training set and a validation set\n",
    "test_train_split = function(data, test_size=.25){\n",
    "    \n",
    "    # the the number of observations in the data\n",
    "    n_obs = dim(data)[1]\n",
    "    \n",
    "    # find the number of training observations by rounding up\n",
    "    n_train_obs = ceiling(n_obs * (1 - test_size))\n",
    "    \n",
    "    # get the train indexes\n",
    "    train_idx = sample(n_obs, n_train_obs)\n",
    "    \n",
    "    # split the data\n",
    "    train = data[train_idx, ]\n",
    "    test = data[-train_idx, ]\n",
    "\n",
    "    # return the result\n",
    "    result = list(train, test)\n",
    "    return(result)\n",
    "}"
   ]
  },
  {
   "cell_type": "code",
   "execution_count": 3,
   "metadata": {},
   "outputs": [],
   "source": [
    "# write a function to calculate the MSE\n",
    "calc_MSE = function (model, data){\n",
    "    return (\n",
    "        mean(\n",
    "            (data$mpg - predict(model, data)) ^ 2\n",
    "        )\n",
    "    )\n",
    "}"
   ]
  },
  {
   "cell_type": "code",
   "execution_count": 4,
   "metadata": {},
   "outputs": [],
   "source": [
    "# read in the cleaned ISLR Auto dataset cleaned in 10-ins_best_subset\n",
    "auto = read.csv(\"../resources/ISLR_auto_clean.csv\", row.names=1)"
   ]
  },
  {
   "cell_type": "code",
   "execution_count": 5,
   "metadata": {},
   "outputs": [],
   "source": [
    "# split the data\n",
    "set.seed(1)\n",
    "result = test_train_split(auto)\n",
    "train = data.frame(result[1])\n",
    "test = data.frame(result[2])"
   ]
  },
  {
   "cell_type": "code",
   "execution_count": 6,
   "metadata": {},
   "outputs": [
    {
     "data": {
      "text/html": [
       "8"
      ],
      "text/latex": [
       "8"
      ],
      "text/markdown": [
       "8"
      ],
      "text/plain": [
       "[1] 8"
      ]
     },
     "metadata": {},
     "output_type": "display_data"
    }
   ],
   "source": [
    "dim(train)[2]"
   ]
  },
  {
   "cell_type": "code",
   "execution_count": 7,
   "metadata": {},
   "outputs": [
    {
     "data": {
      "text/plain": [
       "\n",
       "Call:\n",
       " randomForest(formula = mpg ~ ., data = train, mtry = dim(train)[2] -      1, importance = TRUE) \n",
       "               Type of random forest: regression\n",
       "                     Number of trees: 500\n",
       "No. of variables tried at each split: 7\n",
       "\n",
       "          Mean of squared residuals: 8.183582\n",
       "                    % Var explained: 85.46"
      ]
     },
     "metadata": {},
     "output_type": "display_data"
    },
    {
     "data": {
      "text/plain": [
       "                Length Class  Mode     \n",
       "call              5    -none- call     \n",
       "type              1    -none- character\n",
       "predicted       293    -none- numeric  \n",
       "mse             500    -none- numeric  \n",
       "rsq             500    -none- numeric  \n",
       "oob.times       293    -none- numeric  \n",
       "importance       14    -none- numeric  \n",
       "importanceSD      7    -none- numeric  \n",
       "localImportance   0    -none- NULL     \n",
       "proximity         0    -none- NULL     \n",
       "ntree             1    -none- numeric  \n",
       "mtry              1    -none- numeric  \n",
       "forest           11    -none- list     \n",
       "coefs             0    -none- NULL     \n",
       "y               293    -none- numeric  \n",
       "test              0    -none- NULL     \n",
       "inbag             0    -none- NULL     \n",
       "terms             3    terms  call     "
      ]
     },
     "metadata": {},
     "output_type": "display_data"
    },
    {
     "data": {
      "text/html": [
       "6.98026709504056"
      ],
      "text/latex": [
       "6.98026709504056"
      ],
      "text/markdown": [
       "6.98026709504056"
      ],
      "text/plain": [
       "[1] 6.980267"
      ]
     },
     "metadata": {},
     "output_type": "display_data"
    }
   ],
   "source": [
    "# train and test a bagged tree estimator\n",
    "set.seed(1)\n",
    "\n",
    "rf_bag = randomForest(\n",
    "    mpg ~ .,\n",
    "    data=train,\n",
    "    mtry=dim(train)[2] - 1,\n",
    "    importance=TRUE\n",
    ")\n",
    "\n",
    "rf_bag\n",
    "summary(rf_bag)\n",
    "mean((predict(rf_bag, test) - test$mpg)^2)"
   ]
  },
  {
   "cell_type": "code",
   "execution_count": 8,
   "metadata": {},
   "outputs": [
    {
     "data": {
      "text/plain": [
       "\n",
       "Call:\n",
       " randomForest(formula = mpg ~ ., data = train, mtry = 3, importance = TRUE) \n",
       "               Type of random forest: regression\n",
       "                     Number of trees: 500\n",
       "No. of variables tried at each split: 3\n",
       "\n",
       "          Mean of squared residuals: 8.098501\n",
       "                    % Var explained: 85.61"
      ]
     },
     "metadata": {},
     "output_type": "display_data"
    },
    {
     "data": {
      "text/plain": [
       "                Length Class  Mode     \n",
       "call              5    -none- call     \n",
       "type              1    -none- character\n",
       "predicted       293    -none- numeric  \n",
       "mse             500    -none- numeric  \n",
       "rsq             500    -none- numeric  \n",
       "oob.times       293    -none- numeric  \n",
       "importance       14    -none- numeric  \n",
       "importanceSD      7    -none- numeric  \n",
       "localImportance   0    -none- NULL     \n",
       "proximity         0    -none- NULL     \n",
       "ntree             1    -none- numeric  \n",
       "mtry              1    -none- numeric  \n",
       "forest           11    -none- list     \n",
       "coefs             0    -none- NULL     \n",
       "y               293    -none- numeric  \n",
       "test              0    -none- NULL     \n",
       "inbag             0    -none- NULL     \n",
       "terms             3    terms  call     "
      ]
     },
     "metadata": {},
     "output_type": "display_data"
    },
    {
     "data": {
      "text/html": [
       "6.94238375095233"
      ],
      "text/latex": [
       "6.94238375095233"
      ],
      "text/markdown": [
       "6.94238375095233"
      ],
      "text/plain": [
       "[1] 6.942384"
      ]
     },
     "metadata": {},
     "output_type": "display_data"
    }
   ],
   "source": [
    "# train and test a random forest\n",
    "set.seed(1)\n",
    "rf = randomForest(\n",
    "    mpg ~ .,\n",
    "    data=train,\n",
    "    mtry=3,\n",
    "    importance=TRUE\n",
    ")\n",
    "rf\n",
    "summary(rf)\n",
    "mean((predict(rf, test) - test$mpg)^2)"
   ]
  },
  {
   "cell_type": "code",
   "execution_count": 9,
   "metadata": {},
   "outputs": [],
   "source": [
    "# get test error vs mtry\n",
    "\n",
    "n_predictors = dim(train)[2] - 1\n",
    "\n",
    "mse_vs_mtry = rep(0, n_predictors)\n",
    "\n",
    "for (i in 1:n_predictors){\n",
    "    \n",
    "    rf = randomForest(\n",
    "        mpg ~ .,\n",
    "        data=train,\n",
    "        mtry=i,\n",
    "        importance=TRUE\n",
    "    )\n",
    "    \n",
    "    mse_vs_mtry[i] = calc_MSE(rf, test)\n",
    "}"
   ]
  },
  {
   "cell_type": "code",
   "execution_count": 10,
   "metadata": {},
   "outputs": [
    {
     "data": {
      "text/html": [
       "<ol class=list-inline>\n",
       "\t<li>9.78741328220198</li>\n",
       "\t<li>7.01305669751962</li>\n",
       "\t<li>6.81963646177039</li>\n",
       "\t<li>6.7842562764873</li>\n",
       "\t<li>6.68034173707864</li>\n",
       "\t<li>6.79916678627035</li>\n",
       "\t<li>6.92092562060231</li>\n",
       "</ol>\n"
      ],
      "text/latex": [
       "\\begin{enumerate*}\n",
       "\\item 9.78741328220198\n",
       "\\item 7.01305669751962\n",
       "\\item 6.81963646177039\n",
       "\\item 6.7842562764873\n",
       "\\item 6.68034173707864\n",
       "\\item 6.79916678627035\n",
       "\\item 6.92092562060231\n",
       "\\end{enumerate*}\n"
      ],
      "text/markdown": [
       "1. 9.78741328220198\n",
       "2. 7.01305669751962\n",
       "3. 6.81963646177039\n",
       "4. 6.7842562764873\n",
       "5. 6.68034173707864\n",
       "6. 6.79916678627035\n",
       "7. 6.92092562060231\n",
       "\n",
       "\n"
      ],
      "text/plain": [
       "[1] 9.787413 7.013057 6.819636 6.784256 6.680342 6.799167 6.920926"
      ]
     },
     "metadata": {},
     "output_type": "display_data"
    },
    {
     "data": {
      "image/png": "[encoded data removed]",
      "text/plain": [
       "Plot with title “mtry on Test MSE”"
      ]
     },
     "metadata": {},
     "output_type": "display_data",
     "source": "R display func"
    }
   ],
   "source": [
    "# show and plot test error vs mtry\n",
    "\n",
    "mse_vs_mtry\n",
    "\n",
    "plot(\n",
    "    mse_vs_mtry,\n",
    "    main=\"mtry on Test MSE\",\n",
    "    xlab=\"mtry\",\n",
    "    ylab=\"Test MSE\",\n",
    "    type=\"l\",\n",
    "    col=\"red\"\n",
    ")"
   ]
  }
 ],
 "metadata": {
  "kernelspec": {
   "display_name": "ISLR",
   "language": "R",
   "name": "islr"
  },
  "language_info": {
   "codemirror_mode": "r",
   "file_extension": ".r",
   "mimetype": "text/x-r-source",
   "name": "R",
   "pygments_lexer": "r",
   "version": "3.5.1"
  }
 },
 "nbformat": 4,
 "nbformat_minor": 2
}
