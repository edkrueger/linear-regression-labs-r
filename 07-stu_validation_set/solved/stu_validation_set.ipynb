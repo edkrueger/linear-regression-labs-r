{
 "cells": [
  {
   "cell_type": "markdown",
   "metadata": {},
   "source": [
    "# Fuel Efficiency Analysis"
   ]
  },
  {
   "cell_type": "markdown",
   "metadata": {},
   "source": [
    "## Validation Set Approach (Student)"
   ]
  },
  {
   "cell_type": "markdown",
   "metadata": {},
   "source": [
    "Instructions:\n",
    "* Use the Validation Set Approach to validate some of your earlier models.\n",
    "* Be sure to try setting different seeds and see if you results change.\n",
    "* Can you tell which model is the best according to this approach?"
   ]
  },
  {
   "cell_type": "code",
   "execution_count": 1,
   "metadata": {},
   "outputs": [],
   "source": [
    "# make a function to split the data into a training set and a validation set\n",
    "test_train_split = function(data, test_size=.25){\n",
    "    \n",
    "    # the the number of observations in the data\n",
    "    n_obs = dim(mtcars)[1]\n",
    "    \n",
    "    # find the number of training observations by rounding up\n",
    "    n_train_obs = ceiling(n_obs * (1 - test_size))\n",
    "    \n",
    "    # get the train indexes\n",
    "    train_idx = sample(n_obs, n_train_obs)\n",
    "    \n",
    "    # split the data\n",
    "    train = data[train_idx, ]\n",
    "    test = data[-train_idx, ]\n",
    "\n",
    "    # return the result\n",
    "    result = list(train, test)\n",
    "    return(result)\n",
    "}"
   ]
  },
  {
   "cell_type": "code",
   "execution_count": 2,
   "metadata": {},
   "outputs": [],
   "source": [
    "# write a function to calculate the MSE\n",
    "calc_MSE = function (model, data){\n",
    "    return (\n",
    "        mean((data$mpg - predict(model, data)) ^ 2)\n",
    "    )\n",
    "}"
   ]
  },
  {
   "cell_type": "code",
   "execution_count": 3,
   "metadata": {},
   "outputs": [
    {
     "data": {
      "text/html": [
       "6.65428383928692"
      ],
      "text/latex": [
       "6.65428383928692"
      ],
      "text/markdown": [
       "6.65428383928692"
      ],
      "text/plain": [
       "[1] 6.654284"
      ]
     },
     "metadata": {},
     "output_type": "display_data"
    },
    {
     "data": {
      "text/html": [
       "9.86479846494066"
      ],
      "text/latex": [
       "9.86479846494066"
      ],
      "text/markdown": [
       "9.86479846494066"
      ],
      "text/plain": [
       "[1] 9.864798"
      ]
     },
     "metadata": {},
     "output_type": "display_data"
    },
    {
     "data": {
      "text/html": [
       "5.29791822880987"
      ],
      "text/latex": [
       "5.29791822880987"
      ],
      "text/markdown": [
       "5.29791822880987"
      ],
      "text/plain": [
       "[1] 5.297918"
      ]
     },
     "metadata": {},
     "output_type": "display_data"
    },
    {
     "data": {
      "text/html": [
       "4.94360556087465"
      ],
      "text/latex": [
       "4.94360556087465"
      ],
      "text/markdown": [
       "4.94360556087465"
      ],
      "text/plain": [
       "[1] 4.943606"
      ]
     },
     "metadata": {},
     "output_type": "display_data"
    }
   ],
   "source": [
    "# split the data\n",
    "set.seed(1)\n",
    "result = test_train_split(mtcars, test_size = .25)\n",
    "train_data = data.frame(result[1])\n",
    "test_data = data.frame(result[2])\n",
    "\n",
    "# train the models\n",
    "lm_multivariate = lm(mpg ~ hp + wt, data=train_data)\n",
    "lm_polynomial = lm(mpg ~ poly(hp, 3), data=train_data)\n",
    "\n",
    "# calculate the train MSE for the three models\n",
    "calc_MSE(lm_multivariate, train_data)\n",
    "calc_MSE(lm_polynomial, train_data)\n",
    "\n",
    "# calculate the test MSE for the three models\n",
    "calc_MSE(lm_multivariate, test_data)\n",
    "calc_MSE(lm_polynomial, test_data)"
   ]
  },
  {
   "cell_type": "code",
   "execution_count": 4,
   "metadata": {},
   "outputs": [
    {
     "data": {
      "text/html": [
       "5.20348572022598"
      ],
      "text/latex": [
       "5.20348572022598"
      ],
      "text/markdown": [
       "5.20348572022598"
      ],
      "text/plain": [
       "[1] 5.203486"
      ]
     },
     "metadata": {},
     "output_type": "display_data"
    },
    {
     "data": {
      "text/html": [
       "10.2363157015701"
      ],
      "text/latex": [
       "10.2363157015701"
      ],
      "text/markdown": [
       "10.2363157015701"
      ],
      "text/plain": [
       "[1] 10.23632"
      ]
     },
     "metadata": {},
     "output_type": "display_data"
    },
    {
     "data": {
      "text/html": [
       "11.5948065625613"
      ],
      "text/latex": [
       "11.5948065625613"
      ],
      "text/markdown": [
       "11.5948065625613"
      ],
      "text/plain": [
       "[1] 11.59481"
      ]
     },
     "metadata": {},
     "output_type": "display_data"
    },
    {
     "data": {
      "text/html": [
       "12.8439472709547"
      ],
      "text/latex": [
       "12.8439472709547"
      ],
      "text/markdown": [
       "12.8439472709547"
      ],
      "text/plain": [
       "[1] 12.84395"
      ]
     },
     "metadata": {},
     "output_type": "display_data"
    }
   ],
   "source": [
    "# try again with a different seed \n",
    "set.seed(2)\n",
    "\n",
    "# split the data\n",
    "result = test_train_split(mtcars)\n",
    "train_data = data.frame(result[1])\n",
    "test_data = data.frame(result[2])\n",
    "\n",
    "# train the models\n",
    "lm_multivariate = lm(mpg ~ hp + wt, data=train_data)\n",
    "lm_polynomial = lm(mpg ~ poly(hp, 3), data=train_data)\n",
    "\n",
    "# calculate the train MSE for the three models\n",
    "calc_MSE(lm_multivariate, train_data)\n",
    "calc_MSE(lm_polynomial, train_data)\n",
    "\n",
    "# calculate the test MSE for the three models\n",
    "calc_MSE(lm_multivariate, test_data)\n",
    "calc_MSE(lm_polynomial, test_data)"
   ]
  },
  {
   "cell_type": "code",
   "execution_count": 5,
   "metadata": {},
   "outputs": [
    {
     "data": {
      "text/html": [
       "7.01819942156004"
      ],
      "text/latex": [
       "7.01819942156004"
      ],
      "text/markdown": [
       "7.01819942156004"
      ],
      "text/plain": [
       "[1] 7.018199"
      ]
     },
     "metadata": {},
     "output_type": "display_data"
    },
    {
     "data": {
      "text/html": [
       "9.87613449326122"
      ],
      "text/latex": [
       "9.87613449326122"
      ],
      "text/markdown": [
       "9.87613449326122"
      ],
      "text/plain": [
       "[1] 9.876134"
      ]
     },
     "metadata": {},
     "output_type": "display_data"
    },
    {
     "data": {
      "text/html": [
       "3.90526542695234"
      ],
      "text/latex": [
       "3.90526542695234"
      ],
      "text/markdown": [
       "3.90526542695234"
      ],
      "text/plain": [
       "[1] 3.905265"
      ]
     },
     "metadata": {},
     "output_type": "display_data"
    },
    {
     "data": {
      "text/html": [
       "5.38027215440903"
      ],
      "text/latex": [
       "5.38027215440903"
      ],
      "text/markdown": [
       "5.38027215440903"
      ],
      "text/plain": [
       "[1] 5.380272"
      ]
     },
     "metadata": {},
     "output_type": "display_data"
    }
   ],
   "source": [
    "# try again with yet another seed \n",
    "set.seed(3)\n",
    "\n",
    "# split the data\n",
    "result = test_train_split(mtcars)\n",
    "train_data = data.frame(result[1])\n",
    "test_data = data.frame(result[2])\n",
    "\n",
    "# train the models\n",
    "lm_multivariate = lm(mpg ~ hp + wt, data=train_data)\n",
    "lm_polynomial = lm(mpg ~ poly(hp, 3), data=train_data)\n",
    "\n",
    "# calculate the train MSE for the three models\n",
    "calc_MSE(lm_multivariate, train_data)\n",
    "calc_MSE(lm_polynomial, train_data)\n",
    "\n",
    "# calculate the test MSE for the three models\n",
    "calc_MSE(lm_multivariate, test_data)\n",
    "calc_MSE(lm_polynomial, test_data)"
   ]
  }
 ],
 "metadata": {
  "kernelspec": {
   "display_name": "ISLR",
   "language": "R",
   "name": "islr"
  },
  "language_info": {
   "codemirror_mode": "r",
   "file_extension": ".r",
   "mimetype": "text/x-r-source",
   "name": "R",
   "pygments_lexer": "r",
   "version": "3.5.1"
  }
 },
 "nbformat": 4,
 "nbformat_minor": 2
}
