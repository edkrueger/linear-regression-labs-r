{
 "cells": [
  {
   "cell_type": "markdown",
   "metadata": {},
   "source": [
    "# Fuel Efficiency Analysis"
   ]
  },
  {
   "cell_type": "markdown",
   "metadata": {},
   "source": [
    "## K-Fold Cross-Validation (Instructor)"
   ]
  },
  {
   "cell_type": "code",
   "execution_count": 1,
   "metadata": {},
   "outputs": [],
   "source": [
    "# install the boot library with `conda install -c r r-boot`\n",
    "# load the boot library\n",
    "library(boot)"
   ]
  },
  {
   "cell_type": "code",
   "execution_count": 2,
   "metadata": {},
   "outputs": [
    {
     "data": {
      "text/plain": [
       "\n",
       "Call:\n",
       "glm(formula = mpg ~ hp, data = mtcars)\n",
       "\n",
       "Deviance Residuals: \n",
       "    Min       1Q   Median       3Q      Max  \n",
       "-5.7121  -2.1122  -0.8854   1.5819   8.2360  \n",
       "\n",
       "Coefficients:\n",
       "            Estimate Std. Error t value Pr(>|t|)    \n",
       "(Intercept) 30.09886    1.63392  18.421  < 2e-16 ***\n",
       "hp          -0.06823    0.01012  -6.742 1.79e-07 ***\n",
       "---\n",
       "Signif. codes:  0 ‘***’ 0.001 ‘**’ 0.01 ‘*’ 0.05 ‘.’ 0.1 ‘ ’ 1\n",
       "\n",
       "(Dispersion parameter for gaussian family taken to be 14.92248)\n",
       "\n",
       "    Null deviance: 1126.05  on 31  degrees of freedom\n",
       "Residual deviance:  447.67  on 30  degrees of freedom\n",
       "AIC: 181.24\n",
       "\n",
       "Number of Fisher Scoring iterations: 2\n"
      ]
     },
     "metadata": {},
     "output_type": "display_data"
    },
    {
     "data": {
      "text/plain": [
       "\n",
       "Call:\n",
       "glm(formula = mpg ~ hp, data = mtcars)\n",
       "\n",
       "Deviance Residuals: \n",
       "    Min       1Q   Median       3Q      Max  \n",
       "-5.7121  -2.1122  -0.8854   1.5819   8.2360  \n",
       "\n",
       "Coefficients:\n",
       "            Estimate Std. Error t value Pr(>|t|)    \n",
       "(Intercept) 30.09886    1.63392  18.421  < 2e-16 ***\n",
       "hp          -0.06823    0.01012  -6.742 1.79e-07 ***\n",
       "---\n",
       "Signif. codes:  0 ‘***’ 0.001 ‘**’ 0.01 ‘*’ 0.05 ‘.’ 0.1 ‘ ’ 1\n",
       "\n",
       "(Dispersion parameter for gaussian family taken to be 14.92248)\n",
       "\n",
       "    Null deviance: 1126.05  on 31  degrees of freedom\n",
       "Residual deviance:  447.67  on 30  degrees of freedom\n",
       "AIC: 181.24\n",
       "\n",
       "Number of Fisher Scoring iterations: 2\n"
      ]
     },
     "metadata": {},
     "output_type": "display_data"
    }
   ],
   "source": [
    "# the the glm function has the same behavior as the lm function by default, but with expanded output\n",
    "# we'll use the glm because cv.glm, the function in boot, works with glm objects\n",
    "\n",
    "lm_1 = glm_1 = glm(mpg ~ hp, data=mtcars)\n",
    "glm_1 = glm(mpg ~ hp, data=mtcars)\n",
    "\n",
    "summary(lm_1)\n",
    "summary(glm_1)"
   ]
  },
  {
   "cell_type": "code",
   "execution_count": 3,
   "metadata": {},
   "outputs": [
    {
     "name": "stderr",
     "output_type": "stream",
     "text": [
      "Warning message in cv.glm(mtcars, glm_fit, , K = 10):\n",
      "“'K' has been set to 11.000000”Warning message in cv.glm(mtcars, glm_fit, , K = 10):\n",
      "“'K' has been set to 11.000000”Warning message in cv.glm(mtcars, glm_fit, , K = 10):\n",
      "“'K' has been set to 11.000000”Warning message in cv.glm(mtcars, glm_fit, , K = 10):\n",
      "“'K' has been set to 11.000000”Warning message in cv.glm(mtcars, glm_fit, , K = 10):\n",
      "“'K' has been set to 11.000000”Warning message in cv.glm(mtcars, glm_fit, , K = 10):\n",
      "“'K' has been set to 11.000000”Warning message in cv.glm(mtcars, glm_fit, , K = 10):\n",
      "“'K' has been set to 11.000000”Warning message in cv.glm(mtcars, glm_fit, , K = 10):\n",
      "“'K' has been set to 11.000000”Warning message in cv.glm(mtcars, glm_fit, , K = 10):\n",
      "“'K' has been set to 11.000000”Warning message in cv.glm(mtcars, glm_fit, , K = 10):\n",
      "“'K' has been set to 11.000000”"
     ]
    },
    {
     "data": {
      "text/html": [
       "<ol class=list-inline>\n",
       "\t<li>18.3962553992011</li>\n",
       "\t<li>10.4075369424081</li>\n",
       "\t<li>11.3784610561978</li>\n",
       "\t<li>29.5174949654472</li>\n",
       "\t<li>531.547147207898</li>\n",
       "\t<li>492.420061802226</li>\n",
       "\t<li>11991.2119501242</li>\n",
       "\t<li>211777.342414945</li>\n",
       "\t<li>435401730.422315</li>\n",
       "\t<li>739499422.135565</li>\n",
       "</ol>\n"
      ],
      "text/latex": [
       "\\begin{enumerate*}\n",
       "\\item 18.3962553992011\n",
       "\\item 10.4075369424081\n",
       "\\item 11.3784610561978\n",
       "\\item 29.5174949654472\n",
       "\\item 531.547147207898\n",
       "\\item 492.420061802226\n",
       "\\item 11991.2119501242\n",
       "\\item 211777.342414945\n",
       "\\item 435401730.422315\n",
       "\\item 739499422.135565\n",
       "\\end{enumerate*}\n"
      ],
      "text/markdown": [
       "1. 18.3962553992011\n",
       "2. 10.4075369424081\n",
       "3. 11.3784610561978\n",
       "4. 29.5174949654472\n",
       "5. 531.547147207898\n",
       "6. 492.420061802226\n",
       "7. 11991.2119501242\n",
       "8. 211777.342414945\n",
       "9. 435401730.422315\n",
       "10. 739499422.135565\n",
       "\n",
       "\n"
      ],
      "text/plain": [
       " [1] 1.839626e+01 1.040754e+01 1.137846e+01 2.951749e+01 5.315471e+02\n",
       " [6] 4.924201e+02 1.199121e+04 2.117773e+05 4.354017e+08 7.394994e+08"
      ]
     },
     "metadata": {},
     "output_type": "display_data"
    }
   ],
   "source": [
    "# cross-validate the linear through 10th degree model of horsepower on mpg\n",
    "\n",
    "# set a seed\n",
    "set.seed(17)\n",
    "\n",
    "# create a vector of 10 0s to store the results\n",
    "cv_errors = rep(0, 10)\n",
    "\n",
    "for (i in 1:10) {\n",
    "    glm_fit = glm(mpg ~ poly(hp, i), data=mtcars)\n",
    "    cv_errors[i] = cv.glm(mtcars, glm_fit, , K=10)$delta[1]\n",
    "}\n",
    "\n",
    "cv_errors"
   ]
  }
 ],
 "metadata": {
  "kernelspec": {
   "display_name": "ISLR",
   "language": "R",
   "name": "islr"
  },
  "language_info": {
   "codemirror_mode": "r",
   "file_extension": ".r",
   "mimetype": "text/x-r-source",
   "name": "R",
   "pygments_lexer": "r",
   "version": "3.5.1"
  }
 },
 "nbformat": 4,
 "nbformat_minor": 2
}
