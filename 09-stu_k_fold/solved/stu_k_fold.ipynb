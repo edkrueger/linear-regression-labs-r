{
 "cells": [
  {
   "cell_type": "markdown",
   "metadata": {},
   "source": [
    "# Fuel Efficiency Analysis"
   ]
  },
  {
   "cell_type": "markdown",
   "metadata": {},
   "source": [
    "## K-Fold Cross-Validation (Student)"
   ]
  },
  {
   "cell_type": "markdown",
   "metadata": {},
   "source": [
    "Instructions:\n",
    "* Use K-Fold Cross-Validation to validate some of your earlier models.\n",
    "* Be sure to try setting different seeds and see if you results change.\n",
    "* Can you tell which model is the best according to this approach?"
   ]
  },
  {
   "cell_type": "code",
   "execution_count": 1,
   "metadata": {},
   "outputs": [],
   "source": [
    "# install the boot library with `conda install -c r r-boot`\n",
    "# load the boot library\n",
    "library(boot)"
   ]
  },
  {
   "cell_type": "code",
   "execution_count": 2,
   "metadata": {},
   "outputs": [],
   "source": [
    "# create the three models as glms\n",
    "glm_univariate = glm(mpg ~ hp, data=mtcars)\n",
    "glm_multivariate = glm(mpg ~ hp * wt, data=mtcars)\n",
    "glm_polynomial = glm(mpg ~ poly(hp, 2), data=mtcars)"
   ]
  },
  {
   "cell_type": "code",
   "execution_count": 3,
   "metadata": {},
   "outputs": [
    {
     "name": "stderr",
     "output_type": "stream",
     "text": [
      "Warning message in cv.glm(mtcars, glm_univariate, , K = 10):\n",
      "“'K' has been set to 11.000000”"
     ]
    },
    {
     "data": {
      "text/html": [
       "18.3962553992011"
      ],
      "text/latex": [
       "18.3962553992011"
      ],
      "text/markdown": [
       "18.3962553992011"
      ],
      "text/plain": [
       "[1] 18.39626"
      ]
     },
     "metadata": {},
     "output_type": "display_data"
    },
    {
     "name": "stderr",
     "output_type": "stream",
     "text": [
      "Warning message in cv.glm(mtcars, glm_multivariate, , K = 10):\n",
      "“'K' has been set to 11.000000”"
     ]
    },
    {
     "data": {
      "text/html": [
       "5.33693253842602"
      ],
      "text/latex": [
       "5.33693253842602"
      ],
      "text/markdown": [
       "5.33693253842602"
      ],
      "text/plain": [
       "[1] 5.336933"
      ]
     },
     "metadata": {},
     "output_type": "display_data"
    },
    {
     "name": "stderr",
     "output_type": "stream",
     "text": [
      "Warning message in cv.glm(mtcars, glm_polynomial, , K = 10):\n",
      "“'K' has been set to 11.000000”"
     ]
    },
    {
     "data": {
      "text/html": [
       "10.2080617162244"
      ],
      "text/latex": [
       "10.2080617162244"
      ],
      "text/markdown": [
       "10.2080617162244"
      ],
      "text/plain": [
       "[1] 10.20806"
      ]
     },
     "metadata": {},
     "output_type": "display_data"
    }
   ],
   "source": [
    "set.seed(17)\n",
    "cv.glm(mtcars, glm_univariate, , K=10)$delta[1]\n",
    "cv.glm(mtcars, glm_multivariate, , K=10)$delta[1]\n",
    "cv.glm(mtcars, glm_polynomial, , K=10)$delta[1]"
   ]
  },
  {
   "cell_type": "code",
   "execution_count": 4,
   "metadata": {},
   "outputs": [
    {
     "name": "stderr",
     "output_type": "stream",
     "text": [
      "Warning message in cv.glm(mtcars, glm_univariate, , K = 10):\n",
      "“'K' has been set to 11.000000”"
     ]
    },
    {
     "data": {
      "text/html": [
       "16.640103481917"
      ],
      "text/latex": [
       "16.640103481917"
      ],
      "text/markdown": [
       "16.640103481917"
      ],
      "text/plain": [
       "[1] 16.6401"
      ]
     },
     "metadata": {},
     "output_type": "display_data"
    },
    {
     "name": "stderr",
     "output_type": "stream",
     "text": [
      "Warning message in cv.glm(mtcars, glm_multivariate, , K = 10):\n",
      "“'K' has been set to 11.000000”"
     ]
    },
    {
     "data": {
      "text/html": [
       "5.24168646382012"
      ],
      "text/latex": [
       "5.24168646382012"
      ],
      "text/markdown": [
       "5.24168646382012"
      ],
      "text/plain": [
       "[1] 5.241686"
      ]
     },
     "metadata": {},
     "output_type": "display_data"
    },
    {
     "name": "stderr",
     "output_type": "stream",
     "text": [
      "Warning message in cv.glm(mtcars, glm_polynomial, , K = 10):\n",
      "“'K' has been set to 11.000000”"
     ]
    },
    {
     "data": {
      "text/html": [
       "10.1855185570476"
      ],
      "text/latex": [
       "10.1855185570476"
      ],
      "text/markdown": [
       "10.1855185570476"
      ],
      "text/plain": [
       "[1] 10.18552"
      ]
     },
     "metadata": {},
     "output_type": "display_data"
    }
   ],
   "source": [
    "# try again with a different seed\n",
    "set.seed(21)\n",
    "\n",
    "cv.glm(mtcars, glm_univariate, , K=10)$delta[1]\n",
    "cv.glm(mtcars, glm_multivariate, , K=10)$delta[1]\n",
    "cv.glm(mtcars, glm_polynomial, , K=10)$delta[1]"
   ]
  }
 ],
 "metadata": {
  "kernelspec": {
   "display_name": "ISLR",
   "language": "R",
   "name": "islr"
  },
  "language_info": {
   "codemirror_mode": "r",
   "file_extension": ".r",
   "mimetype": "text/x-r-source",
   "name": "R",
   "pygments_lexer": "r",
   "version": "3.5.1"
  }
 },
 "nbformat": 4,
 "nbformat_minor": 2
}
