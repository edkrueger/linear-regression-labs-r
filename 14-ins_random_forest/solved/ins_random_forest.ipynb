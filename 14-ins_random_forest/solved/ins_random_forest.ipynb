{
 "cells": [
  {
   "cell_type": "markdown",
   "metadata": {},
   "source": [
    "# House Price Analysis"
   ]
  },
  {
   "cell_type": "markdown",
   "metadata": {},
   "source": [
    "## Random Forest (Instructor)"
   ]
  },
  {
   "cell_type": "code",
   "execution_count": 1,
   "metadata": {},
   "outputs": [
    {
     "name": "stderr",
     "output_type": "stream",
     "text": [
      "randomForest 4.6-14\n",
      "Type rfNews() to see new features/changes/bug fixes.\n"
     ]
    }
   ],
   "source": [
    "# load the libraries and data\n",
    "library(randomForest)\n",
    "library(MASS)\n",
    "boston = Boston"
   ]
  },
  {
   "cell_type": "code",
   "execution_count": 2,
   "metadata": {},
   "outputs": [],
   "source": [
    "# make a function to split the data into a training set and a validation set\n",
    "test_train_split = function(data, test_size=.25){\n",
    "    \n",
    "    # the the number of observations in the data\n",
    "    n_obs = dim(data)[1]\n",
    "    \n",
    "    # find the number of training observations by rounding up\n",
    "    n_train_obs = ceiling(n_obs * (1 - test_size))\n",
    "    \n",
    "    # get the train indexes\n",
    "    train_idx = sample(n_obs, n_train_obs)\n",
    "    \n",
    "    # split the data\n",
    "    train = data[train_idx, ]\n",
    "    test = data[-train_idx, ]\n",
    "\n",
    "    # return the result\n",
    "    result = list(train, test)\n",
    "    return(result)\n",
    "}"
   ]
  },
  {
   "cell_type": "code",
   "execution_count": 3,
   "metadata": {},
   "outputs": [],
   "source": [
    "# write a function to calculate the MSE\n",
    "calc_MSE = function (model, data){\n",
    "    return (\n",
    "        mean(\n",
    "            (data$medv - predict(model, data)) ^ 2\n",
    "        )\n",
    "    )\n",
    "}"
   ]
  },
  {
   "cell_type": "code",
   "execution_count": 4,
   "metadata": {},
   "outputs": [],
   "source": [
    "# split the data\n",
    "set.seed(1)\n",
    "result = test_train_split(boston)\n",
    "train = data.frame(result[1])\n",
    "test = data.frame(result[2])"
   ]
  },
  {
   "cell_type": "code",
   "execution_count": 5,
   "metadata": {},
   "outputs": [
    {
     "data": {
      "text/plain": [
       "\n",
       "Call:\n",
       " randomForest(formula = medv ~ ., data = train, mtry = dim(train)[2] -      1, importance = TRUE) \n",
       "               Type of random forest: regression\n",
       "                     Number of trees: 500\n",
       "No. of variables tried at each split: 13\n",
       "\n",
       "          Mean of squared residuals: 10.26566\n",
       "                    % Var explained: 87.51"
      ]
     },
     "metadata": {},
     "output_type": "display_data"
    },
    {
     "data": {
      "text/plain": [
       "                Length Class  Mode     \n",
       "call              5    -none- call     \n",
       "type              1    -none- character\n",
       "predicted       380    -none- numeric  \n",
       "mse             500    -none- numeric  \n",
       "rsq             500    -none- numeric  \n",
       "oob.times       380    -none- numeric  \n",
       "importance       26    -none- numeric  \n",
       "importanceSD     13    -none- numeric  \n",
       "localImportance   0    -none- NULL     \n",
       "proximity         0    -none- NULL     \n",
       "ntree             1    -none- numeric  \n",
       "mtry              1    -none- numeric  \n",
       "forest           11    -none- list     \n",
       "coefs             0    -none- NULL     \n",
       "y               380    -none- numeric  \n",
       "test              0    -none- NULL     \n",
       "inbag             0    -none- NULL     \n",
       "terms             3    terms  call     "
      ]
     },
     "metadata": {},
     "output_type": "display_data"
    },
    {
     "data": {
      "text/html": [
       "18.8489031050957"
      ],
      "text/latex": [
       "18.8489031050957"
      ],
      "text/markdown": [
       "18.8489031050957"
      ],
      "text/plain": [
       "[1] 18.8489"
      ]
     },
     "metadata": {},
     "output_type": "display_data"
    }
   ],
   "source": [
    "# train and test a bagged tree estimator\n",
    "set.seed(1)\n",
    "\n",
    "rf_bag = randomForest(\n",
    "    medv ~ .,\n",
    "    data=train,\n",
    "    mtry=dim(train)[2] - 1,\n",
    "    importance=TRUE\n",
    ")\n",
    "\n",
    "rf_bag\n",
    "summary(rf_bag)\n",
    "\n",
    "calc_MSE(rf_bag, test)"
   ]
  },
  {
   "cell_type": "code",
   "execution_count": 6,
   "metadata": {},
   "outputs": [
    {
     "data": {
      "text/plain": [
       "\n",
       "Call:\n",
       " randomForest(formula = medv ~ ., data = train, importance = TRUE) \n",
       "               Type of random forest: regression\n",
       "                     Number of trees: 500\n",
       "No. of variables tried at each split: 4\n",
       "\n",
       "          Mean of squared residuals: 10.80071\n",
       "                    % Var explained: 86.86"
      ]
     },
     "metadata": {},
     "output_type": "display_data"
    },
    {
     "data": {
      "text/plain": [
       "                Length Class  Mode     \n",
       "call              4    -none- call     \n",
       "type              1    -none- character\n",
       "predicted       380    -none- numeric  \n",
       "mse             500    -none- numeric  \n",
       "rsq             500    -none- numeric  \n",
       "oob.times       380    -none- numeric  \n",
       "importance       26    -none- numeric  \n",
       "importanceSD     13    -none- numeric  \n",
       "localImportance   0    -none- NULL     \n",
       "proximity         0    -none- NULL     \n",
       "ntree             1    -none- numeric  \n",
       "mtry              1    -none- numeric  \n",
       "forest           11    -none- list     \n",
       "coefs             0    -none- NULL     \n",
       "y               380    -none- numeric  \n",
       "test              0    -none- NULL     \n",
       "inbag             0    -none- NULL     \n",
       "terms             3    terms  call     "
      ]
     },
     "metadata": {},
     "output_type": "display_data"
    },
    {
     "data": {
      "text/html": [
       "13.0518957387954"
      ],
      "text/latex": [
       "13.0518957387954"
      ],
      "text/markdown": [
       "13.0518957387954"
      ],
      "text/plain": [
       "[1] 13.0519"
      ]
     },
     "metadata": {},
     "output_type": "display_data"
    }
   ],
   "source": [
    "# train and test a random forest\n",
    "set.seed(1)\n",
    "rf = randomForest(\n",
    "    medv ~ .,\n",
    "    data=train,\n",
    "    importance=TRUE\n",
    ")\n",
    "rf\n",
    "summary(rf)\n",
    "\n",
    "calc_MSE(rf, test)"
   ]
  }
 ],
 "metadata": {
  "kernelspec": {
   "display_name": "ISLR",
   "language": "R",
   "name": "islr"
  },
  "language_info": {
   "codemirror_mode": "r",
   "file_extension": ".r",
   "mimetype": "text/x-r-source",
   "name": "R",
   "pygments_lexer": "r",
   "version": "3.5.1"
  }
 },
 "nbformat": 4,
 "nbformat_minor": 2
}
